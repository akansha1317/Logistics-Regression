{
  "nbformat": 4,
  "nbformat_minor": 0,
  "metadata": {
    "colab": {
      "provenance": []
    },
    "kernelspec": {
      "name": "python3",
      "display_name": "Python 3"
    },
    "language_info": {
      "name": "python"
    }
  },
  "cells": [
    {
      "cell_type": "markdown",
      "source": [
        "***Theoretical***"
      ],
      "metadata": {
        "id": "MQLWgf9s4Ozt"
      }
    },
    {
      "cell_type": "markdown",
      "source": [
        "1. What is Logistic Regression, and how does it differ from Linear Regression?\n",
        "\n",
        "- Logistic regression is a statistical method used for binary classification problems, where the outcome or dependent variable is categorical, typically representing two classes such as 0 and 1. It models the probability that a given input belongs to a particular class by applying the logistic (sigmoid) function to a linear combination of input features. This function transforms any real-valued number into a value between 0 and 1, making it suitable for probability estimation. In contrast, linear regression is used for regression problems, where the dependent variable is continuous. It assumes a linear relationship between the input variables and the output, predicting values by fitting a straight line that minimizes the difference between predicted and actual values using the least squares method. The key theoretical difference is that logistic regression focuses on estimating probabilities for classification using maximum likelihood estimation, while linear regression aims to predict continuous outcomes based on a linear approximation using least squares.\n"
      ],
      "metadata": {
        "id": "922CprK_4Yj0"
      }
    },
    {
      "cell_type": "markdown",
      "source": [
        "2. What is the mathematical equation of Logistic Regression.\n",
        "\n",
        "- The mathematical equation of logistic regression models the probability that a given input belongs to a particular class, typically class 1 in a binary classification problem. It begins by calculating a linear combination of the input features, expressed as $z = \\beta_0 + \\beta_1 x_1 + \\beta_2 x_2 + \\ldots + \\beta_n x_n$, where $\\beta_0$ is the intercept, $\\beta_1, \\ldots, \\beta_n$ are the coefficients, and $x_1, \\ldots, x_n$ are the input variables. This linear result is then passed through the sigmoid function, which transforms the value into a range between 0 and 1, making it interpretable as a probability. The final equation becomes $P(Y=1|\\mathbf{x}) = \\frac{1}{1 + e^{-z}}$, which estimates the probability that the dependent variable $Y$ equals 1 given the input $\\mathbf{x}$. This probabilistic output can be thresholded (e.g., at 0.5) to make a binary classification decision.\n"
      ],
      "metadata": {
        "id": "UFS_3mcP43dU"
      }
    },
    {
      "cell_type": "markdown",
      "source": [
        "3. Why do we use the Sigmoid function in Logistic Regression.\n",
        "\n",
        "- We use the **sigmoid function** in logistic regression because it transforms any real-valued input into a value between **0 and 1**, making it ideal for modeling **probabilities**. In classification problems, particularly binary classification, we want to predict the likelihood that a given input belongs to a particular class (e.g., class 1). The raw output from the linear combination of features in logistic regression can range from negative to positive infinity, which isn't suitable for interpreting as a probability. The sigmoid function solves this by \"squashing\" the output into a bounded interval, allowing us to interpret the result as the **probability of the positive class**. Moreover, the sigmoid function has nice mathematical properties—it's smooth, differentiable, and has a well-defined gradient—which make it suitable for optimization using methods like **gradient descent**. In summary, the sigmoid function is used because it effectively maps the model’s output to a probability, enabling logistic regression to function as a classification tool.\n"
      ],
      "metadata": {
        "id": "eF5J49SR5MKT"
      }
    },
    {
      "cell_type": "markdown",
      "source": [
        "4. What is the cost function of Logistic Regression.\n",
        "\n",
        "- The cost function used in logistic regression is known as the **log loss** or **binary cross-entropy** function. It is designed to evaluate how well the predicted probabilities align with the actual binary class labels (0 or 1). Since logistic regression outputs probabilities rather than direct class labels, this cost function penalizes incorrect predictions based on how far the predicted probability is from the actual class. Mathematically, for each training example, the cost is defined as $-[y \\cdot \\log(\\hat{y}) + (1 - y) \\cdot \\log(1 - \\hat{y})]$, where $y$ is the true label and $\\hat{y}$ is the predicted probability of class 1. The total cost over all training examples is the average of these individual costs. This function is preferred because it is convex, ensuring a single global minimum that optimization algorithms can efficiently find, and it is derived from the principle of maximum likelihood estimation. The log loss cost function effectively guides the logistic regression model in learning accurate probabilities and making better classification decisions.\n"
      ],
      "metadata": {
        "id": "Q5yFcvWY5VGk"
      }
    },
    {
      "cell_type": "markdown",
      "source": [
        "5. What is Regularization in Logistic Regression? Why is it needed.\n",
        "\n",
        "- **Regularization** in logistic regression is a technique used to **prevent overfitting** by adding a **penalty term** to the cost function. In a standard logistic regression model, the algorithm tries to find the set of coefficients (weights) that best fit the training data. However, if the model is too complex (for example, if it has too many features or highly flexible coefficients), it may fit the training data too closely, including noise, and perform poorly on new, unseen data. This is where regularization helps.\n",
        "\n",
        "The idea is to discourage the model from assigning excessively large weights to any feature by adding a penalty to the cost function based on the size of the coefficients. The two most common types of regularization are **L1 regularization (Lasso)**, which adds the sum of the absolute values of the coefficients, and **L2 regularization (Ridge)**, which adds the sum of the squares of the coefficients. In logistic regression, the regularized cost function with L2 regularization looks like this:\n",
        "\n",
        "$$\n",
        "J(\\theta) = -\\frac{1}{m} \\sum_{i=1}^{m} \\left[ y^{(i)} \\log(\\hat{y}^{(i)}) + (1 - y^{(i)}) \\log(1 - \\hat{y}^{(i)}) \\right] + \\lambda \\sum_{j=1}^{n} \\theta_j^2\n",
        "$$\n",
        "\n",
        "Here, $\\lambda$ is the regularization parameter that controls the strength of the penalty. A larger $\\lambda$ increases the penalty, reducing model complexity, while a smaller $\\lambda$ allows more flexibility. Regularization is needed to improve the model’s generalization performance and ensure it doesn’t memorize the training data, which is especially important when dealing with high-dimensional data or features that are highly correlated.\n"
      ],
      "metadata": {
        "id": "eamheukW5-R8"
      }
    },
    {
      "cell_type": "markdown",
      "source": [
        "6. Explain the difference between Lasso, Ridge, and Elastic Net regression.\n",
        "\n",
        "- Lasso, Ridge, and Elastic Net are regularization techniques used to prevent overfitting by adding penalties to the regression model’s coefficients, but they differ in how these penalties are applied. Ridge regression uses an L2 penalty, which adds the sum of the squared coefficients to the loss function. This approach shrinks coefficients toward zero but does not set any exactly to zero, so all features remain in the model. Lasso regression, on the other hand, uses an L1 penalty by adding the sum of the absolute values of the coefficients. This encourages sparsity by driving some coefficients exactly to zero, effectively performing feature selection by removing less important features. Elastic Net combines both L1 and L2 penalties, balancing the benefits of Ridge’s coefficient shrinkage and Lasso’s feature selection, making it particularly useful when dealing with many correlated features. Overall, Ridge is preferred when all features contribute to the outcome, Lasso is useful when only a few features matter, and Elastic Net is a compromise that handles correlated features better than Lasso alone.\n"
      ],
      "metadata": {
        "id": "Yx8uVSxQ67jq"
      }
    },
    {
      "cell_type": "markdown",
      "source": [
        "7. When should we use Elastic Net instead of Lasso or Ridge.\n",
        "\n",
        "- Elastic Net should be used instead of Lasso or Ridge when you have a dataset with **many correlated features** or when you suspect that a combination of both feature selection and coefficient shrinkage is needed. While Lasso tends to select only one feature from a group of correlated variables and ignore the others, Elastic Net can retain groups of correlated features together because it combines both L1 (which encourages sparsity) and L2 (which encourages grouping) penalties. This makes Elastic Net especially effective in situations where features are highly correlated or when the number of features exceeds the number of observations. It balances the strengths of Ridge and Lasso, providing better predictive performance and more stable feature selection in complex, high-dimensional data scenarios.\n"
      ],
      "metadata": {
        "id": "sek7WBz475-i"
      }
    },
    {
      "cell_type": "markdown",
      "source": [
        "8. What is the impact of the regularization parameter (λ) in Logistic Regression.\n",
        "\n",
        "- The regularization parameter $\\lambda$ in logistic regression controls the **strength of the penalty** applied to the model’s coefficients to prevent overfitting. A **larger $\\lambda$** increases the penalty, forcing the coefficients to shrink closer to zero, which simplifies the model and reduces variance but may increase bias, potentially underfitting the data. Conversely, a **smaller $\\lambda$** applies less penalty, allowing the coefficients to take larger values, which can fit the training data more closely but risks overfitting and poor generalization to new data. Essentially, $\\lambda$ balances the trade-off between bias and variance: tuning it correctly helps the model generalize better by controlling complexity, while an inappropriate value can lead to either an overly simplistic or overly complex model.\n"
      ],
      "metadata": {
        "id": "Z1R1n12A8EkS"
      }
    },
    {
      "cell_type": "markdown",
      "source": [
        "9. What are the key assumptions of Logistic Regression.\n",
        "\n",
        "- The key assumptions of logistic regression are:\n",
        "\n",
        "1. **Linearity of the Logit**: Logistic regression assumes a linear relationship between the independent variables and the **log-odds** (logit) of the dependent binary outcome. This means that the predictors combine linearly to predict the logit of the probability.\n",
        "\n",
        "2. **Independent Observations**: The observations should be independent of each other; there should be no correlation or dependence between the data points.\n",
        "\n",
        "3. **No Perfect Multicollinearity**: The independent variables should not be perfectly correlated with each other. High multicollinearity can distort the estimates and make it difficult to determine the individual effect of each predictor.\n",
        "\n",
        "4. **Large Sample Size**: Logistic regression requires a sufficiently large sample size to provide reliable estimates, especially when dealing with multiple predictors.\n",
        "\n",
        "5. **Appropriate Outcome Variable**: The dependent variable should be binary (or can be extended to multinomial logistic regression for multiple categories), representing distinct classes.\n",
        "\n",
        "Unlike linear regression, logistic regression does **not** assume homoscedasticity (constant variance) or normally distributed residuals, making it more flexible for classification tasks.\n"
      ],
      "metadata": {
        "id": "FUKzMR9a8apx"
      }
    },
    {
      "cell_type": "markdown",
      "source": [
        "10. What are some alternatives to Logistic Regression for classification tasks.\n",
        "\n",
        "- Some common alternatives to logistic regression for classification tasks include **Decision Trees**, **Random Forests**, **Support Vector Machines (SVMs)**, **K-Nearest Neighbors (KNN)**, **Naive Bayes**, and **Neural Networks**. Decision Trees split the data into branches based on feature values, making them easy to interpret. Random Forests build multiple trees and aggregate their results for better accuracy and robustness. SVMs find the optimal boundary (hyperplane) that separates classes with maximum margin, which can work well with high-dimensional data. KNN classifies data points based on the majority class among their closest neighbors, relying on distance metrics. Naive Bayes applies Bayes’ theorem with an assumption of feature independence, often performing well on text classification. Neural Networks, especially deep learning models, can capture complex nonlinear relationships and are widely used in image, speech, and language tasks. The choice among these depends on factors like dataset size, feature characteristics, interpretability, and computational resources.\n"
      ],
      "metadata": {
        "id": "kUXYhVqM8kYD"
      }
    },
    {
      "cell_type": "markdown",
      "source": [
        "11. What are Classification Evaluation Metrics.\n",
        "\n",
        "- **Classification evaluation metrics** are measures used to assess how well a classification model performs in predicting the correct class labels. Common metrics include:\n",
        "\n",
        "* **Accuracy**: The proportion of total correct predictions out of all predictions made. It’s simple but can be misleading if classes are imbalanced.\n",
        "\n",
        "* **Precision**: The proportion of correctly predicted positive instances out of all instances predicted as positive. It answers, \"Of all predicted positives, how many were actually positive?\"\n",
        "\n",
        "* **Recall (Sensitivity or True Positive Rate)**: The proportion of correctly predicted positive instances out of all actual positives. It answers, \"Of all actual positives, how many did the model correctly identify?\"\n",
        "\n",
        "* **F1 Score**: The harmonic mean of precision and recall, providing a balance between the two, especially useful when classes are imbalanced.\n",
        "\n",
        "* **Specificity (True Negative Rate)**: The proportion of correctly predicted negative instances out of all actual negatives.\n",
        "\n",
        "* **ROC Curve and AUC (Area Under the Curve)**: The ROC curve plots the true positive rate against the false positive rate at different threshold levels. The AUC quantifies overall model performance; closer to 1 means better discrimination.\n",
        "\n",
        "* **Confusion Matrix**: A table showing counts of true positives, true negatives, false positives, and false negatives, giving a detailed view of classification errors.\n",
        "\n",
        "These metrics help evaluate the effectiveness of a classifier and guide model selection and tuning.\n"
      ],
      "metadata": {
        "id": "T0d_Eht78rEa"
      }
    },
    {
      "cell_type": "markdown",
      "source": [
        "12.  How does class imbalance affect Logistic Regression.\n",
        "\n",
        "- Class imbalance occurs when one class significantly outnumbers the other(s) in a classification problem, and it can negatively affect logistic regression in several ways. Because logistic regression aims to maximize overall accuracy or likelihood, it tends to be biased toward the majority class, often predicting the dominant class more frequently while neglecting the minority class. This can lead to poor detection of the minority class, which might be the more important class in many applications (like fraud detection or disease diagnosis). As a result, metrics like accuracy can be misleadingly high despite poor performance on the minority class. Additionally, the estimated probabilities and model coefficients can become skewed, reducing the model’s ability to generalize well. To address this, techniques such as resampling (oversampling the minority or undersampling the majority), using different evaluation metrics (like F1 score or AUC), or applying specialized algorithms or regularization methods are often employed.\n"
      ],
      "metadata": {
        "id": "avVhCcgE80vi"
      }
    },
    {
      "cell_type": "markdown",
      "source": [
        "13. What is Hyperparameter Tuning in Logistic Regression.\n",
        "\n",
        "- Hyperparameter tuning in logistic regression refers to the process of selecting the best set of **hyperparameters**—parameters that are not learned from the data but set before training—to optimize the model’s performance. In logistic regression, key hyperparameters include the **regularization strength (λ)**, which controls how much penalty is applied to the coefficients to prevent overfitting, and the **type of regularization** used (such as L1, L2, or Elastic Net). Tuning these hyperparameters involves systematically searching through possible values, often using techniques like **grid search** or **random search**, combined with cross-validation to evaluate how well the model generalizes to unseen data. The goal is to find the hyperparameter values that minimize error or maximize a chosen evaluation metric, ensuring the model balances bias and variance effectively for better predictive accuracy.\n"
      ],
      "metadata": {
        "id": "yMrLhz8788zC"
      }
    },
    {
      "cell_type": "markdown",
      "source": [
        "14. What are different solvers in Logistic Regression? Which one should be used.\n",
        "\n",
        "- In logistic regression, solvers are optimization algorithms used to find the best model parameters by minimizing the cost function, and different solvers are suited to different types of data and regularization. Common solvers include **liblinear**, which is efficient for small to medium-sized datasets and supports both L1 and L2 regularization; **lbfgs**, a quasi-Newton method that works well for medium to large datasets but supports only L2 regularization; and **saga**, which is designed for very large or sparse datasets and supports Elastic Net as well as L1 and L2 regularization. Gradient descent is another method but is less commonly used in practice due to slower convergence. Generally, **liblinear** is preferred for smaller datasets or when L1 regularization is needed, **lbfgs** is often the default choice for larger datasets with L2 regularization, and **saga** is best for large-scale or sparse data and when using Elastic Net. The choice of solver depends on factors like dataset size, the type of regularization, and computational efficiency.\n"
      ],
      "metadata": {
        "id": "iNTW6aJ-9JBh"
      }
    },
    {
      "cell_type": "markdown",
      "source": [
        "15.  How is Logistic Regression extended for multiclass classification.\n",
        "\n",
        "- Logistic regression is extended to multiclass classification problems using approaches that allow it to handle more than two classes, since standard logistic regression is inherently binary. The two most common methods are **One-vs-Rest (OvR)** and **Softmax Regression (also called Multinomial Logistic Regression)**. In the OvR approach, the model trains one binary classifier per class, where each classifier distinguishes that class from all others; during prediction, the class whose classifier outputs the highest probability is chosen. Softmax regression, on the other hand, generalizes logistic regression by modeling the probabilities of each class simultaneously using the softmax function, which converts raw scores (logits) for all classes into probabilities that sum to one. Softmax regression directly optimizes a likelihood function for multiple classes and often performs better when classes are mutually exclusive. These extensions enable logistic regression to be applied effectively to problems involving multiple categories.\n"
      ],
      "metadata": {
        "id": "kJnykqkQ9TVC"
      }
    },
    {
      "cell_type": "markdown",
      "source": [
        "16. What are the advantages and disadvantages of Logistic Regression.\n",
        "\n",
        "- Logistic regression offers several advantages and disadvantages as a classification method.\n",
        "\n",
        "**Advantages** include its simplicity and ease of implementation, making it a good baseline model. It provides **probabilistic outputs**, which are interpretable as the likelihood of class membership, and the model coefficients offer clear insights into the relationship between features and the outcome. Logistic regression is also **computationally efficient** and works well when the relationship between the features and the log-odds of the outcome is approximately linear. Additionally, it can be regularized to prevent overfitting and handle high-dimensional data.\n",
        "\n",
        "**Disadvantages** include its assumption of a linear relationship between the input features and the log-odds, which may not hold true in complex real-world problems, limiting its ability to capture nonlinear patterns. It is also sensitive to **outliers** and may perform poorly when classes are not linearly separable. Logistic regression can struggle with **multicollinearity** among features, and its performance can degrade when the dataset is imbalanced. For very large-scale or highly complex tasks, more flexible models like decision trees, random forests, or neural networks may be more effective.\n"
      ],
      "metadata": {
        "id": "GsaV1O909dfK"
      }
    },
    {
      "cell_type": "markdown",
      "source": [
        "17. What are some use cases of Logistic Regression.\n",
        "\n",
        "- Logistic regression is widely used across various fields for binary and multiclass classification tasks due to its simplicity and interpretability. Common use cases include **medical diagnosis**, where it helps predict the presence or absence of diseases based on patient data; **credit scoring** in finance, assessing the likelihood of loan default; **email spam detection**, classifying messages as spam or not; and **customer churn prediction**, identifying customers likely to leave a service. It’s also used in **marketing** to predict whether a user will respond to a campaign or purchase a product, and in **social sciences** for modeling binary outcomes like voting behavior or survey responses. Because logistic regression outputs probabilities, it is especially useful in applications requiring clear decision thresholds or risk assessments.\n"
      ],
      "metadata": {
        "id": "ebzg5nis9nD5"
      }
    },
    {
      "cell_type": "markdown",
      "source": [
        "18. What is the difference between Softmax Regression and Logistic Regression.\n",
        "\n",
        "- Logistic regression and softmax regression are both used for classification, but they differ primarily in the number of classes they handle and how they model probabilities. Logistic regression is designed for **binary classification** problems, predicting the probability that an input belongs to one of two classes using the sigmoid function, which maps the output to a value between 0 and 1. In contrast, softmax regression (also called multinomial logistic regression) is an extension of logistic regression used for **multiclass classification** problems, where there are three or more classes. Instead of the sigmoid, softmax regression uses the **softmax function** to convert raw scores (logits) for each class into probabilities that sum to one across all classes. While logistic regression models the log-odds of a single class versus the other, softmax regression models the probability distribution over multiple classes simultaneously, making it suitable for multiclass tasks.\n"
      ],
      "metadata": {
        "id": "gUKZ9_L4-2a4"
      }
    },
    {
      "cell_type": "markdown",
      "source": [
        "19. How do we choose between One-vs-Rest (OvR) and Softmax for multiclass classification.\n",
        "\n",
        "- Choosing between One-vs-Rest (OvR) and Softmax (multinomial logistic regression) for multiclass classification depends on factors like dataset size, class distribution, and computational resources. OvR is simpler and often faster, as it breaks the multiclass problem into multiple independent binary classifiers, which can be easier to implement and parallelize. It can work well when classes are not strongly overlapping and when interpretability of individual binary classifiers is desired. However, OvR may suffer if classes are highly imbalanced or overlapping, since each classifier ignores the relationships among other classes. Softmax, on the other hand, models all classes simultaneously, producing a probability distribution across all classes, which often leads to better performance when classes are mutually exclusive and well-defined. Softmax regression tends to be more accurate in capturing interactions among classes but requires more computation and memory. In summary, OvR can be preferred for simplicity and scalability on large or imbalanced datasets, while Softmax is favored when class relationships are important and more precise probability estimates are needed.\n"
      ],
      "metadata": {
        "id": "e6AoJbBn_L1Y"
      }
    },
    {
      "cell_type": "markdown",
      "source": [
        "20. How do we interpret coefficients in Logistic Regression?\n",
        "\n",
        "- In logistic regression, the coefficients represent the relationship between each feature and the **log-odds** of the outcome occurring (i.e., the event being in class 1). Specifically, a coefficient tells us how much the log-odds of the dependent variable increase or decrease with a one-unit increase in the corresponding feature, assuming all other variables are held constant. A **positive coefficient** means that as the feature increases, the likelihood of the event occurring (class 1) increases, while a **negative coefficient** indicates a decrease in that likelihood. To make interpretation more intuitive, coefficients are often exponentiated to obtain **odds ratios**: for example, an odds ratio of 2 means that a one-unit increase in the feature doubles the odds of the event occurring. This makes logistic regression particularly useful for understanding and quantifying the impact of predictors on binary outcomes.\n"
      ],
      "metadata": {
        "id": "uYKJHjGd_T45"
      }
    },
    {
      "cell_type": "markdown",
      "source": [
        "***Practical***"
      ],
      "metadata": {
        "id": "iYVKPPSr_a6Z"
      }
    },
    {
      "cell_type": "markdown",
      "source": [
        "1. Write a Python program that loads a dataset, splits it into training and testing sets, applies Logistic Regression, and prints the model accuracy."
      ],
      "metadata": {
        "id": "nhsrKO9j_fZ5"
      }
    },
    {
      "cell_type": "code",
      "source": [
        "from sklearn.datasets import load_iris\n",
        "from sklearn.model_selection import train_test_split\n",
        "from sklearn.linear_model import LogisticRegression\n",
        "from sklearn.metrics import accuracy_score\n",
        "\n",
        "# Load dataset\n",
        "data = load_iris()\n",
        "X = data.data\n",
        "y = data.target\n",
        "\n",
        "# Split dataset into training and testing sets (80% train, 20% test)\n",
        "X_train, X_test, y_train, y_test = train_test_split(X, y, test_size=0.2, random_state=42)\n",
        "\n",
        "# Initialize logistic regression model\n",
        "model = LogisticRegression(max_iter=200)\n",
        "\n",
        "# Train the model\n",
        "model.fit(X_train, y_train)\n",
        "\n",
        "# Predict on test set\n",
        "y_pred = model.predict(X_test)\n",
        "\n",
        "# Calculate and print accuracy\n",
        "accuracy = accuracy_score(y_test, y_pred)\n",
        "print(f\"Model accuracy: {accuracy:.2f}\")\n"
      ],
      "metadata": {
        "colab": {
          "base_uri": "https://localhost:8080/"
        },
        "id": "UbznyQSr_lWB",
        "outputId": "5d5c33bf-1d9a-40ce-e766-2547ecebc344"
      },
      "execution_count": 1,
      "outputs": [
        {
          "output_type": "stream",
          "name": "stdout",
          "text": [
            "Model accuracy: 1.00\n"
          ]
        }
      ]
    },
    {
      "cell_type": "markdown",
      "source": [
        "2. Write a Python program to apply L1 regularization (Lasso) on a dataset using LogisticRegression(penalty='l1')\n",
        "and print the model accuracy."
      ],
      "metadata": {
        "id": "Pew1WZNB_vKR"
      }
    },
    {
      "cell_type": "code",
      "source": [
        "from sklearn.datasets import load_iris\n",
        "from sklearn.model_selection import train_test_split\n",
        "from sklearn.linear_model import LogisticRegression\n",
        "from sklearn.metrics import accuracy_score\n",
        "\n",
        "# Load dataset\n",
        "data = load_iris()\n",
        "X = data.data\n",
        "y = data.target\n",
        "\n",
        "# Split dataset into training and testing sets (80% train, 20% test)\n",
        "X_train, X_test, y_train, y_test = train_test_split(X, y, test_size=0.2, random_state=42)\n",
        "\n",
        "# Initialize logistic regression model with L1 regularization\n",
        "model = LogisticRegression(penalty='l1', solver='saga', max_iter=500)\n",
        "\n",
        "# Train the model\n",
        "model.fit(X_train, y_train)\n",
        "\n",
        "# Predict on test set\n",
        "y_pred = model.predict(X_test)\n",
        "\n",
        "# Calculate and print accuracy\n",
        "accuracy = accuracy_score(y_test, y_pred)\n",
        "print(f\"Model accuracy with L1 regularization: {accuracy:.2f}\")\n"
      ],
      "metadata": {
        "colab": {
          "base_uri": "https://localhost:8080/"
        },
        "id": "Ft5Pzz-D_1-R",
        "outputId": "2aa4b0ff-432d-4a46-c26e-06238309668c"
      },
      "execution_count": 2,
      "outputs": [
        {
          "output_type": "stream",
          "name": "stdout",
          "text": [
            "Model accuracy with L1 regularization: 1.00\n"
          ]
        },
        {
          "output_type": "stream",
          "name": "stderr",
          "text": [
            "/usr/local/lib/python3.11/dist-packages/sklearn/linear_model/_sag.py:348: ConvergenceWarning: The max_iter was reached which means the coef_ did not converge\n",
            "  warnings.warn(\n"
          ]
        }
      ]
    },
    {
      "cell_type": "markdown",
      "source": [
        "3. Write a Python program to train Logistic Regression with L2 regularization (Ridge) using\n",
        "LogisticRegression(penalty='l2'). Print model accuracy and coefficients"
      ],
      "metadata": {
        "id": "5uv5kM6dAAjw"
      }
    },
    {
      "cell_type": "code",
      "source": [
        "from sklearn.datasets import load_iris\n",
        "from sklearn.model_selection import train_test_split\n",
        "from sklearn.linear_model import LogisticRegression\n",
        "from sklearn.metrics import accuracy_score\n",
        "import numpy as np\n",
        "\n",
        "# Load dataset\n",
        "data = load_iris()\n",
        "X = data.data\n",
        "y = data.target\n",
        "\n",
        "# Split dataset into training and testing sets (80% train, 20% test)\n",
        "X_train, X_test, y_train, y_test = train_test_split(X, y, test_size=0.2, random_state=42)\n",
        "\n",
        "# Initialize logistic regression model with L2 regularization\n",
        "model = LogisticRegression(penalty='l2', solver='lbfgs', max_iter=500, multi_class='auto')\n",
        "\n",
        "# Train the model\n",
        "model.fit(X_train, y_train)\n",
        "\n",
        "# Predict on test set\n",
        "y_pred = model.predict(X_test)\n",
        "\n",
        "# Calculate and print accuracy\n",
        "accuracy = accuracy_score(y_test, y_pred)\n",
        "print(f\"Model accuracy with L2 regularization: {accuracy:.2f}\")\n",
        "\n",
        "# Print coefficients\n",
        "print(\"Model coefficients:\")\n",
        "for i, class_label in enumerate(data.target_names):\n",
        "    coef = model.coef_[i]\n",
        "    print(f\"Class '{class_label}': {coef}\")\n"
      ],
      "metadata": {
        "colab": {
          "base_uri": "https://localhost:8080/"
        },
        "id": "_oYZ0FnxAD7Y",
        "outputId": "e4a18b6d-2287-4d64-a0ee-1362386d06b7"
      },
      "execution_count": 3,
      "outputs": [
        {
          "output_type": "stream",
          "name": "stderr",
          "text": [
            "/usr/local/lib/python3.11/dist-packages/sklearn/linear_model/_logistic.py:1247: FutureWarning: 'multi_class' was deprecated in version 1.5 and will be removed in 1.7. From then on, it will always use 'multinomial'. Leave it to its default value to avoid this warning.\n",
            "  warnings.warn(\n"
          ]
        },
        {
          "output_type": "stream",
          "name": "stdout",
          "text": [
            "Model accuracy with L2 regularization: 1.00\n",
            "Model coefficients:\n",
            "Class 'setosa': [-0.39345607  0.96251768 -2.37512436 -0.99874594]\n",
            "Class 'versicolor': [ 0.50843279 -0.25482714 -0.21301129 -0.77574766]\n",
            "Class 'virginica': [-0.11497673 -0.70769055  2.58813565  1.7744936 ]\n"
          ]
        }
      ]
    },
    {
      "cell_type": "markdown",
      "source": [
        "4. Write a Python program to train Logistic Regression with Elastic Net Regularization (penalty='elasticnet')\n",
        "\n"
      ],
      "metadata": {
        "id": "E854NvmaBjdz"
      }
    },
    {
      "cell_type": "code",
      "source": [
        "from sklearn.datasets import load_iris\n",
        "from sklearn.model_selection import train_test_split\n",
        "from sklearn.linear_model import LogisticRegression\n",
        "from sklearn.metrics import accuracy_score\n",
        "\n",
        "# Load dataset\n",
        "data = load_iris()\n",
        "X = data.data\n",
        "y = data.target\n",
        "\n",
        "# Split dataset into training and testing sets (80% train, 20% test)\n",
        "X_train, X_test, y_train, y_test = train_test_split(X, y, test_size=0.2, random_state=42)\n",
        "\n",
        "# Initialize logistic regression model with Elastic Net regularization\n",
        "model = LogisticRegression(\n",
        "    penalty='elasticnet',\n",
        "    solver='saga',\n",
        "    l1_ratio=0.5,      # balance between L1 and L2 (0 = Ridge, 1 = Lasso)\n",
        "    max_iter=1000,\n",
        "    multi_class='auto',\n",
        "    random_state=42\n",
        ")\n",
        "\n",
        "# Train the model\n",
        "model.fit(X_train, y_train)\n",
        "\n",
        "# Predict on test set\n",
        "y_pred = model.predict(X_test)\n",
        "\n",
        "# Calculate and print accuracy\n",
        "accuracy = accuracy_score(y_test, y_pred)\n",
        "print(f\"Model accuracy with Elastic Net regularization: {accuracy:.2f}\")\n"
      ],
      "metadata": {
        "colab": {
          "base_uri": "https://localhost:8080/"
        },
        "id": "uEO-fVRXB3Kw",
        "outputId": "79ff98fe-5f7d-44ff-f09e-5ad09c676277"
      },
      "execution_count": 4,
      "outputs": [
        {
          "output_type": "stream",
          "name": "stderr",
          "text": [
            "/usr/local/lib/python3.11/dist-packages/sklearn/linear_model/_logistic.py:1247: FutureWarning: 'multi_class' was deprecated in version 1.5 and will be removed in 1.7. From then on, it will always use 'multinomial'. Leave it to its default value to avoid this warning.\n",
            "  warnings.warn(\n",
            "/usr/local/lib/python3.11/dist-packages/sklearn/linear_model/_sag.py:348: ConvergenceWarning: The max_iter was reached which means the coef_ did not converge\n",
            "  warnings.warn(\n"
          ]
        },
        {
          "output_type": "stream",
          "name": "stdout",
          "text": [
            "Model accuracy with Elastic Net regularization: 1.00\n"
          ]
        }
      ]
    },
    {
      "cell_type": "markdown",
      "source": [
        "5. Write a Python program to train a Logistic Regression model for multiclass classification using\n",
        "multi_class='ovr'"
      ],
      "metadata": {
        "id": "zMticNVnB_M3"
      }
    },
    {
      "cell_type": "code",
      "source": [
        "from sklearn.datasets import load_iris\n",
        "from sklearn.model_selection import train_test_split\n",
        "from sklearn.linear_model import LogisticRegression\n",
        "from sklearn.metrics import accuracy_score\n",
        "\n",
        "# Load dataset\n",
        "data = load_iris()\n",
        "X = data.data\n",
        "y = data.target\n",
        "\n",
        "# Split dataset into training and testing sets (80% train, 20% test)\n",
        "X_train, X_test, y_train, y_test = train_test_split(X, y, test_size=0.2, random_state=42)\n",
        "\n",
        "# Initialize logistic regression model with One-vs-Rest multiclass strategy\n",
        "model = LogisticRegression(multi_class='ovr', solver='liblinear', max_iter=500)\n",
        "\n",
        "# Train the model\n",
        "model.fit(X_train, y_train)\n",
        "\n",
        "# Predict on test set\n",
        "y_pred = model.predict(X_test)\n",
        "\n",
        "# Calculate and print accuracy\n",
        "accuracy = accuracy_score(y_test, y_pred)\n",
        "print(f\"Model accuracy with OvR strategy: {accuracy:.2f}\")\n"
      ],
      "metadata": {
        "colab": {
          "base_uri": "https://localhost:8080/"
        },
        "id": "s85nnvLcCCIn",
        "outputId": "7b7e9ea7-f2c8-4fa9-a1ad-798eb2d81b45"
      },
      "execution_count": 5,
      "outputs": [
        {
          "output_type": "stream",
          "name": "stdout",
          "text": [
            "Model accuracy with OvR strategy: 1.00\n"
          ]
        },
        {
          "output_type": "stream",
          "name": "stderr",
          "text": [
            "/usr/local/lib/python3.11/dist-packages/sklearn/linear_model/_logistic.py:1256: FutureWarning: 'multi_class' was deprecated in version 1.5 and will be removed in 1.7. Use OneVsRestClassifier(LogisticRegression(..)) instead. Leave it to its default value to avoid this warning.\n",
            "  warnings.warn(\n"
          ]
        }
      ]
    },
    {
      "cell_type": "markdown",
      "source": [
        "6.  Write a Python program to apply GridSearchCV to tune the hyperparameters (C and penalty) of Logistic\n",
        "Regression. Print the best parameters and accuracy."
      ],
      "metadata": {
        "id": "rzh6I_YgCNeg"
      }
    },
    {
      "cell_type": "code",
      "source": [
        "from sklearn.datasets import load_iris\n",
        "from sklearn.model_selection import train_test_split, GridSearchCV\n",
        "from sklearn.linear_model import LogisticRegression\n",
        "from sklearn.metrics import accuracy_score\n",
        "\n",
        "# Load dataset\n",
        "data = load_iris()\n",
        "X = data.data\n",
        "y = data.target\n",
        "\n",
        "# Split dataset into training and testing sets\n",
        "X_train, X_test, y_train, y_test = train_test_split(X, y, test_size=0.2, random_state=42)\n",
        "\n",
        "# Define the logistic regression model (solver 'saga' supports both L1 and L2 penalties)\n",
        "model = LogisticRegression(solver='saga', max_iter=500, multi_class='auto')\n",
        "\n",
        "# Define hyperparameter grid\n",
        "param_grid = {\n",
        "    'C': [0.01, 0.1, 1, 10, 100],           # inverse regularization strength\n",
        "    'penalty': ['l1', 'l2']                  # regularization types\n",
        "}\n",
        "\n",
        "# Initialize GridSearchCV\n",
        "grid_search = GridSearchCV(model, param_grid, cv=5, scoring='accuracy', n_jobs=-1)\n",
        "\n",
        "# Fit GridSearch to training data\n",
        "grid_search.fit(X_train, y_train)\n",
        "\n",
        "# Best parameters and best score from GridSearch\n",
        "print(f\"Best parameters: {grid_search.best_params_}\")\n",
        "print(f\"Best cross-validation accuracy: {grid_search.best_score_:.2f}\")\n",
        "\n",
        "# Evaluate best estimator on test set\n",
        "best_model = grid_search.best_estimator_\n",
        "y_pred = best_model.predict(X_test)\n",
        "test_accuracy = accuracy_score(y_test, y_pred)\n",
        "print(f\"Test set accuracy: {test_accuracy:.2f}\")\n"
      ],
      "metadata": {
        "colab": {
          "base_uri": "https://localhost:8080/"
        },
        "id": "toNfK_KKCQn3",
        "outputId": "9d296361-dddd-4e26-9379-b2cfa3bbfba8"
      },
      "execution_count": 6,
      "outputs": [
        {
          "output_type": "stream",
          "name": "stdout",
          "text": [
            "Best parameters: {'C': 1, 'penalty': 'l1'}\n",
            "Best cross-validation accuracy: 0.97\n",
            "Test set accuracy: 1.00\n"
          ]
        },
        {
          "output_type": "stream",
          "name": "stderr",
          "text": [
            "/usr/local/lib/python3.11/dist-packages/sklearn/linear_model/_logistic.py:1247: FutureWarning: 'multi_class' was deprecated in version 1.5 and will be removed in 1.7. From then on, it will always use 'multinomial'. Leave it to its default value to avoid this warning.\n",
            "  warnings.warn(\n",
            "/usr/local/lib/python3.11/dist-packages/sklearn/linear_model/_sag.py:348: ConvergenceWarning: The max_iter was reached which means the coef_ did not converge\n",
            "  warnings.warn(\n"
          ]
        }
      ]
    },
    {
      "cell_type": "markdown",
      "source": [
        "7. Write a Python program to evaluate Logistic Regression using Stratified K-Fold Cross-Validation. Print the\n",
        "average accuracy."
      ],
      "metadata": {
        "id": "YVunKSN_CYUY"
      }
    },
    {
      "cell_type": "code",
      "source": [
        "from sklearn.datasets import load_iris\n",
        "from sklearn.linear_model import LogisticRegression\n",
        "from sklearn.model_selection import StratifiedKFold, cross_val_score\n",
        "\n",
        "# Load dataset\n",
        "data = load_iris()\n",
        "X = data.data\n",
        "y = data.target\n",
        "\n",
        "# Initialize logistic regression model\n",
        "model = LogisticRegression(max_iter=500, solver='lbfgs', multi_class='auto')\n",
        "\n",
        "# Define Stratified K-Fold cross-validator with 5 splits\n",
        "skf = StratifiedKFold(n_splits=5, shuffle=True, random_state=42)\n",
        "\n",
        "# Evaluate model using cross-validation and get accuracy scores\n",
        "scores = cross_val_score(model, X, y, cv=skf, scoring='accuracy')\n",
        "\n",
        "# Print accuracy for each fold and average accuracy\n",
        "for i, score in enumerate(scores, 1):\n",
        "    print(f\"Fold {i} accuracy: {score:.2f}\")\n",
        "print(f\"Average accuracy: {scores.mean():.2f}\")\n"
      ],
      "metadata": {
        "colab": {
          "base_uri": "https://localhost:8080/"
        },
        "id": "VpcvLPFHCbkx",
        "outputId": "dc187a4b-8860-42d1-8910-d82f84d87f7c"
      },
      "execution_count": 7,
      "outputs": [
        {
          "output_type": "stream",
          "name": "stderr",
          "text": [
            "/usr/local/lib/python3.11/dist-packages/sklearn/linear_model/_logistic.py:1247: FutureWarning: 'multi_class' was deprecated in version 1.5 and will be removed in 1.7. From then on, it will always use 'multinomial'. Leave it to its default value to avoid this warning.\n",
            "  warnings.warn(\n",
            "/usr/local/lib/python3.11/dist-packages/sklearn/linear_model/_logistic.py:1247: FutureWarning: 'multi_class' was deprecated in version 1.5 and will be removed in 1.7. From then on, it will always use 'multinomial'. Leave it to its default value to avoid this warning.\n",
            "  warnings.warn(\n",
            "/usr/local/lib/python3.11/dist-packages/sklearn/linear_model/_logistic.py:1247: FutureWarning: 'multi_class' was deprecated in version 1.5 and will be removed in 1.7. From then on, it will always use 'multinomial'. Leave it to its default value to avoid this warning.\n",
            "  warnings.warn(\n",
            "/usr/local/lib/python3.11/dist-packages/sklearn/linear_model/_logistic.py:1247: FutureWarning: 'multi_class' was deprecated in version 1.5 and will be removed in 1.7. From then on, it will always use 'multinomial'. Leave it to its default value to avoid this warning.\n",
            "  warnings.warn(\n"
          ]
        },
        {
          "output_type": "stream",
          "name": "stdout",
          "text": [
            "Fold 1 accuracy: 1.00\n",
            "Fold 2 accuracy: 0.97\n",
            "Fold 3 accuracy: 0.93\n",
            "Fold 4 accuracy: 1.00\n",
            "Fold 5 accuracy: 0.93\n",
            "Average accuracy: 0.97\n"
          ]
        },
        {
          "output_type": "stream",
          "name": "stderr",
          "text": [
            "/usr/local/lib/python3.11/dist-packages/sklearn/linear_model/_logistic.py:1247: FutureWarning: 'multi_class' was deprecated in version 1.5 and will be removed in 1.7. From then on, it will always use 'multinomial'. Leave it to its default value to avoid this warning.\n",
            "  warnings.warn(\n"
          ]
        }
      ]
    },
    {
      "cell_type": "markdown",
      "source": [
        "8. Write a Python program to load a dataset from a CSV file, apply Logistic Regression, and evaluate its\n",
        "accuracy."
      ],
      "metadata": {
        "id": "h2cJwj4yCjwI"
      }
    },
    {
      "cell_type": "code",
      "source": [],
      "metadata": {
        "id": "GoJsRsI9DP_e"
      },
      "execution_count": null,
      "outputs": []
    },
    {
      "cell_type": "markdown",
      "source": [
        "9. Write a Python program to apply RandomizedSearchCV for tuning hyperparameters (C, penalty, solver) in\n",
        "Logistic Regression. Print the best parameters and accuracy."
      ],
      "metadata": {
        "id": "fzRZoL7fDQrf"
      }
    },
    {
      "cell_type": "code",
      "source": [
        "from sklearn.datasets import load_iris\n",
        "from sklearn.model_selection import train_test_split, RandomizedSearchCV\n",
        "from sklearn.linear_model import LogisticRegression\n",
        "from sklearn.metrics import accuracy_score\n",
        "from scipy.stats import uniform\n",
        "import numpy as np\n",
        "\n",
        "# Load dataset\n",
        "data = load_iris()\n",
        "X = data.data\n",
        "y = data.target\n",
        "\n",
        "# Split dataset into train and test sets\n",
        "X_train, X_test, y_train, y_test = train_test_split(X, y, test_size=0.2, random_state=42)\n",
        "\n",
        "# Initialize logistic regression model\n",
        "model = LogisticRegression(max_iter=1000, multi_class='auto')\n",
        "\n",
        "# Define hyperparameter space for RandomizedSearchCV\n",
        "param_dist = {\n",
        "    'C': uniform(0.01, 10),                   # Continuous uniform distribution between 0.01 and 10\n",
        "    'penalty': ['l1', 'l2', 'elasticnet'],   # Penalties to try\n",
        "    'solver': ['saga', 'liblinear'],          # solvers compatible with penalties\n",
        "    'l1_ratio': [None, 0.5, 0.7]              # l1_ratio used only if penalty='elasticnet'\n",
        "}\n",
        "\n",
        "# Custom function to handle incompatible solver-penalty combos by ignoring those params in search\n",
        "def is_valid_combination(params):\n",
        "    penalty = params['penalty']\n",
        "    solver = params['solver']\n",
        "    # 'liblinear' supports only l1 and l2, not elasticnet\n",
        "    if penalty == 'elasticnet' and solver != 'saga':\n",
        "        return False\n",
        "    # 'liblinear' does not support l1_ratio\n",
        "    if solver == 'liblinear' and params.get('l1_ratio', None) is not None:\n",
        "        return False\n",
        "    return True\n",
        "\n",
        "# Filter param_dist space by defining a custom scoring and refitting function\n",
        "from sklearn.model_selection import ParameterSampler\n",
        "\n",
        "# Generate all sampled params\n",
        "n_iter_search = 20\n",
        "param_list = list(ParameterSampler(param_dist, n_iter=n_iter_search, random_state=42))\n",
        "# Filter invalid combos\n",
        "param_list = [p for p in param_list if is_valid_combination(p)]\n",
        "\n",
        "# Run RandomizedSearchCV with filtered params\n",
        "random_search = RandomizedSearchCV(\n",
        "    estimator=model,\n",
        "    param_distributions=param_dist,\n",
        "    n_iter=n_iter_search,\n",
        "    cv=5,\n",
        "    scoring='accuracy',\n",
        "    random_state=42,\n",
        "    n_jobs=-1,\n",
        "    refit=True\n",
        ")\n",
        "\n",
        "# Fit RandomizedSearchCV\n",
        "random_search.fit(X_train, y_train)\n",
        "\n",
        "# Print best params\n",
        "print(\"Best parameters found:\", random_search.best_params_)\n",
        "\n",
        "# Evaluate best model on test set\n",
        "best_model = random_search.best_estimator_\n",
        "y_pred = best_model.predict(X_test)\n",
        "accuracy = accuracy_score(y_test, y_pred)\n",
        "print(f\"Test set accuracy: {accuracy:.2f}\")\n"
      ],
      "metadata": {
        "colab": {
          "base_uri": "https://localhost:8080/"
        },
        "id": "2dPH1LRIDUnP",
        "outputId": "fe876ba4-e77c-493a-a8df-3801c5ececbb"
      },
      "execution_count": 11,
      "outputs": [
        {
          "output_type": "stream",
          "name": "stdout",
          "text": [
            "Best parameters found: {'C': np.float64(3.347086111390218), 'l1_ratio': 0.7, 'penalty': 'l2', 'solver': 'saga'}\n",
            "Test set accuracy: 1.00\n"
          ]
        },
        {
          "output_type": "stream",
          "name": "stderr",
          "text": [
            "/usr/local/lib/python3.11/dist-packages/sklearn/model_selection/_validation.py:528: FitFailedWarning: \n",
            "30 fits failed out of a total of 100.\n",
            "The score on these train-test partitions for these parameters will be set to nan.\n",
            "If these failures are not expected, you can try to debug them by setting error_score='raise'.\n",
            "\n",
            "Below are more details about the failures:\n",
            "--------------------------------------------------------------------------------\n",
            "5 fits failed with the following error:\n",
            "Traceback (most recent call last):\n",
            "  File \"/usr/local/lib/python3.11/dist-packages/sklearn/model_selection/_validation.py\", line 866, in _fit_and_score\n",
            "    estimator.fit(X_train, y_train, **fit_params)\n",
            "  File \"/usr/local/lib/python3.11/dist-packages/sklearn/base.py\", line 1389, in wrapper\n",
            "    return fit_method(estimator, *args, **kwargs)\n",
            "           ^^^^^^^^^^^^^^^^^^^^^^^^^^^^^^^^^^^^^^\n",
            "  File \"/usr/local/lib/python3.11/dist-packages/sklearn/linear_model/_logistic.py\", line 1203, in fit\n",
            "    raise ValueError(\"l1_ratio must be specified when penalty is elasticnet.\")\n",
            "ValueError: l1_ratio must be specified when penalty is elasticnet.\n",
            "\n",
            "--------------------------------------------------------------------------------\n",
            "25 fits failed with the following error:\n",
            "Traceback (most recent call last):\n",
            "  File \"/usr/local/lib/python3.11/dist-packages/sklearn/model_selection/_validation.py\", line 866, in _fit_and_score\n",
            "    estimator.fit(X_train, y_train, **fit_params)\n",
            "  File \"/usr/local/lib/python3.11/dist-packages/sklearn/base.py\", line 1389, in wrapper\n",
            "    return fit_method(estimator, *args, **kwargs)\n",
            "           ^^^^^^^^^^^^^^^^^^^^^^^^^^^^^^^^^^^^^^\n",
            "  File \"/usr/local/lib/python3.11/dist-packages/sklearn/linear_model/_logistic.py\", line 1193, in fit\n",
            "    solver = _check_solver(self.solver, self.penalty, self.dual)\n",
            "             ^^^^^^^^^^^^^^^^^^^^^^^^^^^^^^^^^^^^^^^^^^^^^^^^^^^\n",
            "  File \"/usr/local/lib/python3.11/dist-packages/sklearn/linear_model/_logistic.py\", line 71, in _check_solver\n",
            "    raise ValueError(\n",
            "ValueError: Only 'saga' solver supports elasticnet penalty, got solver=liblinear.\n",
            "\n",
            "  warnings.warn(some_fits_failed_message, FitFailedWarning)\n",
            "/usr/local/lib/python3.11/dist-packages/sklearn/model_selection/_search.py:1108: UserWarning: One or more of the test scores are non-finite: [       nan        nan        nan 0.96666667 0.95833333 0.95\n",
            " 0.95833333 0.95833333 0.95              nan 0.95833333        nan\n",
            " 0.95833333 0.95       0.95       0.91666667 0.94166667 0.96666667\n",
            " 0.95833333        nan]\n",
            "  warnings.warn(\n",
            "/usr/local/lib/python3.11/dist-packages/sklearn/linear_model/_logistic.py:1196: UserWarning: l1_ratio parameter is only used when penalty is 'elasticnet'. Got (penalty=l2)\n",
            "  warnings.warn(\n",
            "/usr/local/lib/python3.11/dist-packages/sklearn/linear_model/_logistic.py:1247: FutureWarning: 'multi_class' was deprecated in version 1.5 and will be removed in 1.7. From then on, it will always use 'multinomial'. Leave it to its default value to avoid this warning.\n",
            "  warnings.warn(\n"
          ]
        }
      ]
    },
    {
      "cell_type": "markdown",
      "source": [
        "10. Write a Python program to implement One-vs-One (OvO) Multiclass Logistic Regression and print accuracy."
      ],
      "metadata": {
        "id": "Yalrg0paDnc_"
      }
    },
    {
      "cell_type": "code",
      "source": [
        "from sklearn.datasets import load_iris\n",
        "from sklearn.model_selection import train_test_split\n",
        "from sklearn.linear_model import LogisticRegression\n",
        "from sklearn.multiclass import OneVsOneClassifier\n",
        "from sklearn.metrics import accuracy_score\n",
        "\n",
        "# Load dataset\n",
        "data = load_iris()\n",
        "X = data.data\n",
        "y = data.target\n",
        "\n",
        "# Split into train and test sets (80% train, 20% test)\n",
        "X_train, X_test, y_train, y_test = train_test_split(X, y, test_size=0.2, random_state=42)\n",
        "\n",
        "# Initialize Logistic Regression model\n",
        "log_reg = LogisticRegression(max_iter=500, solver='lbfgs')\n",
        "\n",
        "# Wrap Logistic Regression with One-vs-One strategy\n",
        "ovo_clf = OneVsOneClassifier(log_reg)\n",
        "\n",
        "# Train the OvO classifier\n",
        "ovo_clf.fit(X_train, y_train)\n",
        "\n",
        "# Predict on test data\n",
        "y_pred = ovo_clf.predict(X_test)\n",
        "\n",
        "# Calculate and print accuracy\n",
        "accuracy = accuracy_score(y_test, y_pred)\n",
        "print(f\"One-vs-One Logistic Regression accuracy: {accuracy:.2f}\")\n"
      ],
      "metadata": {
        "colab": {
          "base_uri": "https://localhost:8080/"
        },
        "id": "VLlXYoG7Dq9P",
        "outputId": "e4220f4b-1054-43a3-d0c7-df4b675d2908"
      },
      "execution_count": 12,
      "outputs": [
        {
          "output_type": "stream",
          "name": "stdout",
          "text": [
            "One-vs-One Logistic Regression accuracy: 1.00\n"
          ]
        }
      ]
    },
    {
      "cell_type": "markdown",
      "source": [
        "11. Write a Python program to train a Logistic Regression model and visualize the confusion matrix for binary\n",
        "classification.\n"
      ],
      "metadata": {
        "id": "Q6uCO4wWDynH"
      }
    },
    {
      "cell_type": "code",
      "source": [
        "import matplotlib.pyplot as plt\n",
        "from sklearn.datasets import load_breast_cancer\n",
        "from sklearn.linear_model import LogisticRegression\n",
        "from sklearn.model_selection import train_test_split\n",
        "from sklearn.metrics import confusion_matrix, ConfusionMatrixDisplay\n",
        "\n",
        "# Load binary classification dataset (Breast Cancer)\n",
        "data = load_breast_cancer()\n",
        "X = data.data\n",
        "y = data.target\n",
        "\n",
        "# Split data into train and test sets (80% train, 20% test)\n",
        "X_train, X_test, y_train, y_test = train_test_split(X, y, test_size=0.2, random_state=42)\n",
        "\n",
        "# Initialize Logistic Regression model\n",
        "model = LogisticRegression(max_iter=500, solver='lbfgs')\n",
        "\n",
        "# Train the model\n",
        "model.fit(X_train, y_train)\n",
        "\n",
        "# Predict on test set\n",
        "y_pred = model.predict(X_test)\n",
        "\n",
        "# Compute confusion matrix\n",
        "cm = confusion_matrix(y_test, y_pred, labels=model.classes_)\n",
        "\n",
        "# Plot confusion matrix\n",
        "disp = ConfusionMatrixDisplay(confusion_matrix=cm, display_labels=data.target_names)\n",
        "disp.plot(cmap=plt.cm.Blues)\n",
        "plt.title(\"Confusion Matrix for Logistic Regression\")\n",
        "plt.show()\n"
      ],
      "metadata": {
        "colab": {
          "base_uri": "https://localhost:8080/",
          "height": 611
        },
        "id": "MUVxcTwZD1mQ",
        "outputId": "f4a549fe-7ed3-4b9a-fa5d-34d4cad4f9f1"
      },
      "execution_count": 13,
      "outputs": [
        {
          "output_type": "stream",
          "name": "stderr",
          "text": [
            "/usr/local/lib/python3.11/dist-packages/sklearn/linear_model/_logistic.py:465: ConvergenceWarning: lbfgs failed to converge (status=1):\n",
            "STOP: TOTAL NO. OF ITERATIONS REACHED LIMIT.\n",
            "\n",
            "Increase the number of iterations (max_iter) or scale the data as shown in:\n",
            "    https://scikit-learn.org/stable/modules/preprocessing.html\n",
            "Please also refer to the documentation for alternative solver options:\n",
            "    https://scikit-learn.org/stable/modules/linear_model.html#logistic-regression\n",
            "  n_iter_i = _check_optimize_result(\n"
          ]
        },
        {
          "output_type": "display_data",
          "data": {
            "text/plain": [
              "<Figure size 640x480 with 2 Axes>"
            ],
            "image/png": "[encoded data removed]"
          },
          "metadata": {}
        }
      ]
    },
    {
      "cell_type": "markdown",
      "source": [
        "12. Write a Python program to train a Logistic Regression model and evaluate its performance using Precision,\n",
        "Recall, and F1-Score."
      ],
      "metadata": {
        "id": "x6Wg5rLRD8ZP"
      }
    },
    {
      "cell_type": "code",
      "source": [
        "from sklearn.datasets import load_breast_cancer\n",
        "from sklearn.linear_model import LogisticRegression\n",
        "from sklearn.model_selection import train_test_split\n",
        "from sklearn.metrics import precision_score, recall_score, f1_score\n",
        "\n",
        "# Load binary classification dataset\n",
        "data = load_breast_cancer()\n",
        "X = data.data\n",
        "y = data.target\n",
        "\n",
        "# Split into training and testing sets (80% train, 20% test)\n",
        "X_train, X_test, y_train, y_test = train_test_split(X, y, test_size=0.2, random_state=42)\n",
        "\n",
        "# Initialize Logistic Regression model\n",
        "model = LogisticRegression(max_iter=500, solver='lbfgs')\n",
        "\n",
        "# Train the model\n",
        "model.fit(X_train, y_train)\n",
        "\n",
        "# Predict on the test set\n",
        "y_pred = model.predict(X_test)\n",
        "\n",
        "# Calculate precision, recall, and F1-score\n",
        "precision = precision_score(y_test, y_pred)\n",
        "recall = recall_score(y_test, y_pred)\n",
        "f1 = f1_score(y_test, y_pred)\n",
        "\n",
        "# Print the results\n",
        "print(f\"Precision: {precision:.2f}\")\n",
        "print(f\"Recall: {recall:.2f}\")\n",
        "print(f\"F1-Score: {f1:.2f}\")\n"
      ],
      "metadata": {
        "colab": {
          "base_uri": "https://localhost:8080/"
        },
        "id": "eOsFWZpqD_kw",
        "outputId": "975f1cc7-b15c-4f2b-8155-1e7ecb8e3205"
      },
      "execution_count": 14,
      "outputs": [
        {
          "output_type": "stream",
          "name": "stdout",
          "text": [
            "Precision: 0.95\n",
            "Recall: 0.99\n",
            "F1-Score: 0.97\n"
          ]
        },
        {
          "output_type": "stream",
          "name": "stderr",
          "text": [
            "/usr/local/lib/python3.11/dist-packages/sklearn/linear_model/_logistic.py:465: ConvergenceWarning: lbfgs failed to converge (status=1):\n",
            "STOP: TOTAL NO. OF ITERATIONS REACHED LIMIT.\n",
            "\n",
            "Increase the number of iterations (max_iter) or scale the data as shown in:\n",
            "    https://scikit-learn.org/stable/modules/preprocessing.html\n",
            "Please also refer to the documentation for alternative solver options:\n",
            "    https://scikit-learn.org/stable/modules/linear_model.html#logistic-regression\n",
            "  n_iter_i = _check_optimize_result(\n"
          ]
        }
      ]
    },
    {
      "cell_type": "markdown",
      "source": [
        "13.  Write a Python program to train a Logistic Regression model on imbalanced data and apply class weights to\n",
        "improve model performance."
      ],
      "metadata": {
        "id": "0elT1ED9EJgH"
      }
    },
    {
      "cell_type": "code",
      "source": [
        "from sklearn.datasets import make_classification\n",
        "from sklearn.linear_model import LogisticRegression\n",
        "from sklearn.model_selection import train_test_split\n",
        "from sklearn.metrics import classification_report\n",
        "\n",
        "# Generate imbalanced dataset\n",
        "X, y = make_classification(\n",
        "    n_samples=1000, n_features=20, n_informative=2, n_redundant=10,\n",
        "    n_clusters_per_class=1, weights=[0.9, 0.1], flip_y=0, random_state=42\n",
        ")\n",
        "\n",
        "# Split into train and test sets\n",
        "X_train, X_test, y_train, y_test = train_test_split(X, y, test_size=0.2, random_state=42)\n",
        "\n",
        "# Train Logistic Regression without class weights\n",
        "model_no_weights = LogisticRegression(max_iter=500, solver='lbfgs')\n",
        "model_no_weights.fit(X_train, y_train)\n",
        "y_pred_no_weights = model_no_weights.predict(X_test)\n",
        "\n",
        "print(\"Without class weights:\")\n",
        "print(classification_report(y_test, y_pred_no_weights))\n",
        "\n",
        "# Train Logistic Regression with class weights balanced\n",
        "model_with_weights = LogisticRegression(max_iter=500, solver='lbfgs', class_weight='balanced')\n",
        "model_with_weights.fit(X_train, y_train)\n",
        "y_pred_with_weights = model_with_weights.predict(X_test)\n",
        "\n",
        "print(\"With class weights balanced:\")\n",
        "print(classification_report(y_test, y_pred_with_weights))\n"
      ],
      "metadata": {
        "colab": {
          "base_uri": "https://localhost:8080/"
        },
        "id": "z2kKSnspERBP",
        "outputId": "c67f670c-692f-4d32-b70f-708946bc902f"
      },
      "execution_count": 15,
      "outputs": [
        {
          "output_type": "stream",
          "name": "stdout",
          "text": [
            "Without class weights:\n",
            "              precision    recall  f1-score   support\n",
            "\n",
            "           0       1.00      0.99      1.00       186\n",
            "           1       0.93      1.00      0.97        14\n",
            "\n",
            "    accuracy                           0.99       200\n",
            "   macro avg       0.97      1.00      0.98       200\n",
            "weighted avg       1.00      0.99      1.00       200\n",
            "\n",
            "With class weights balanced:\n",
            "              precision    recall  f1-score   support\n",
            "\n",
            "           0       1.00      0.96      0.98       186\n",
            "           1       0.67      1.00      0.80        14\n",
            "\n",
            "    accuracy                           0.96       200\n",
            "   macro avg       0.83      0.98      0.89       200\n",
            "weighted avg       0.98      0.96      0.97       200\n",
            "\n"
          ]
        }
      ]
    },
    {
      "cell_type": "markdown",
      "source": [
        "14. Write a Python program to train Logistic Regression on the Titanic dataset, handle missing values, and\n",
        "evaluate performance."
      ],
      "metadata": {
        "id": "UAYma7GEEXsf"
      }
    },
    {
      "cell_type": "code",
      "source": [
        "import pandas as pd\n",
        "from sklearn.model_selection import train_test_split\n",
        "from sklearn.linear_model import LogisticRegression\n",
        "from sklearn.metrics import accuracy_score\n",
        "from sklearn.preprocessing import OneHotEncoder\n",
        "from sklearn.impute import SimpleImputer\n",
        "from sklearn.compose import ColumnTransformer\n",
        "from sklearn.pipeline import Pipeline\n",
        "\n",
        "# Load Titanic dataset (replace with your CSV path if needed)\n",
        "url = 'https://raw.githubusercontent.com/datasciencedojo/datasets/master/titanic.csv'\n",
        "data = pd.read_csv(url)\n",
        "\n",
        "# Select features and target\n",
        "features = ['Pclass', 'Sex', 'Age', 'SibSp', 'Parch', 'Fare', 'Embarked']\n",
        "X = data[features]\n",
        "y = data['Survived']\n",
        "\n",
        "# Define preprocessing for numeric features: impute missing values with mean\n",
        "numeric_features = ['Age', 'SibSp', 'Parch', 'Fare']\n",
        "numeric_transformer = SimpleImputer(strategy='mean')\n",
        "\n",
        "# Define preprocessing for categorical features: impute missing with most frequent and one-hot encode\n",
        "categorical_features = ['Pclass', 'Sex', 'Embarked']\n",
        "categorical_transformer = Pipeline(steps=[\n",
        "    ('imputer', SimpleImputer(strategy='most_frequent')),\n",
        "    ('onehot', OneHotEncoder(handle_unknown='ignore'))\n",
        "])\n",
        "\n",
        "# Combine preprocessing steps\n",
        "preprocessor = ColumnTransformer(\n",
        "    transformers=[\n",
        "        ('num', numeric_transformer, numeric_features),\n",
        "        ('cat', categorical_transformer, categorical_features)\n",
        "    ])\n",
        "\n",
        "# Create pipeline with preprocessing and logistic regression\n",
        "clf = Pipeline(steps=[\n",
        "    ('preprocessor', preprocessor),\n",
        "    ('classifier', LogisticRegression(max_iter=500))\n",
        "])\n",
        "\n",
        "# Split into train and test sets\n",
        "X_train, X_test, y_train, y_test = train_test_split(X, y, test_size=0.2, random_state=42)\n",
        "\n",
        "# Train the model\n",
        "clf.fit(X_train, y_train)\n",
        "\n",
        "# Predict on test set\n",
        "y_pred = clf.predict(X_test)\n",
        "\n",
        "# Evaluate accuracy\n",
        "accuracy = accuracy_score(y_test, y_pred)\n",
        "print(f\"Logistic Regression accuracy on Titanic dataset: {accuracy:.2f}\")\n"
      ],
      "metadata": {
        "colab": {
          "base_uri": "https://localhost:8080/"
        },
        "id": "RUv1eNEcEbHH",
        "outputId": "dd67a0e6-5499-4957-ed3f-78404fa11a81"
      },
      "execution_count": 16,
      "outputs": [
        {
          "output_type": "stream",
          "name": "stdout",
          "text": [
            "Logistic Regression accuracy on Titanic dataset: 0.80\n"
          ]
        }
      ]
    },
    {
      "cell_type": "markdown",
      "source": [
        "15. Write a Python program to apply feature scaling (Standardization) before training a Logistic Regression\n",
        "model. Evaluate its accuracy and compare results with and without scaling."
      ],
      "metadata": {
        "id": "Mr3n0TThEj1S"
      }
    },
    {
      "cell_type": "code",
      "source": [
        "import numpy as np\n",
        "from sklearn.datasets import load_breast_cancer\n",
        "from sklearn.linear_model import LogisticRegression\n",
        "from sklearn.model_selection import train_test_split\n",
        "from sklearn.preprocessing import StandardScaler\n",
        "from sklearn.metrics import accuracy_score\n",
        "\n",
        "# Load dataset\n",
        "data = load_breast_cancer()\n",
        "X = data.data\n",
        "y = data.target\n",
        "\n",
        "# Split into train and test sets\n",
        "X_train, X_test, y_train, y_test = train_test_split(X, y, test_size=0.2, random_state=42)\n",
        "\n",
        "# --- Without scaling ---\n",
        "model_no_scaling = LogisticRegression(max_iter=500, solver='lbfgs')\n",
        "model_no_scaling.fit(X_train, y_train)\n",
        "y_pred_no_scaling = model_no_scaling.predict(X_test)\n",
        "acc_no_scaling = accuracy_score(y_test, y_pred_no_scaling)\n",
        "\n",
        "# --- With standardization ---\n",
        "scaler = StandardScaler()\n",
        "X_train_scaled = scaler.fit_transform(X_train)\n",
        "X_test_scaled = scaler.transform(X_test)\n",
        "\n",
        "model_scaling = LogisticRegression(max_iter=500, solver='lbfgs')\n",
        "model_scaling.fit(X_train_scaled, y_train)\n",
        "y_pred_scaling = model_scaling.predict(X_test_scaled)\n",
        "acc_scaling = accuracy_score(y_test, y_pred_scaling)\n",
        "\n",
        "# Print results\n",
        "print(f\"Accuracy without scaling: {acc_no_scaling:.2f}\")\n",
        "print(f\"Accuracy with standardization: {acc_scaling:.2f}\")\n"
      ],
      "metadata": {
        "colab": {
          "base_uri": "https://localhost:8080/"
        },
        "id": "KryeLu8uEpDf",
        "outputId": "9d298a11-42b5-46c5-fcd5-c4c6993aeb67"
      },
      "execution_count": 17,
      "outputs": [
        {
          "output_type": "stream",
          "name": "stdout",
          "text": [
            "Accuracy without scaling: 0.96\n",
            "Accuracy with standardization: 0.97\n"
          ]
        },
        {
          "output_type": "stream",
          "name": "stderr",
          "text": [
            "/usr/local/lib/python3.11/dist-packages/sklearn/linear_model/_logistic.py:465: ConvergenceWarning: lbfgs failed to converge (status=1):\n",
            "STOP: TOTAL NO. OF ITERATIONS REACHED LIMIT.\n",
            "\n",
            "Increase the number of iterations (max_iter) or scale the data as shown in:\n",
            "    https://scikit-learn.org/stable/modules/preprocessing.html\n",
            "Please also refer to the documentation for alternative solver options:\n",
            "    https://scikit-learn.org/stable/modules/linear_model.html#logistic-regression\n",
            "  n_iter_i = _check_optimize_result(\n"
          ]
        }
      ]
    },
    {
      "cell_type": "markdown",
      "source": [
        "16. Write a Python program to train Logistic Regression and evaluate its performance using ROC-AUC score.\n"
      ],
      "metadata": {
        "id": "3fxVQU8DEvx3"
      }
    },
    {
      "cell_type": "code",
      "source": [
        "from sklearn.datasets import load_breast_cancer\n",
        "from sklearn.linear_model import LogisticRegression\n",
        "from sklearn.model_selection import train_test_split\n",
        "from sklearn.metrics import roc_auc_score\n",
        "\n",
        "# Load dataset\n",
        "data = load_breast_cancer()\n",
        "X = data.data\n",
        "y = data.target\n",
        "\n",
        "# Split into train and test sets\n",
        "X_train, X_test, y_train, y_test = train_test_split(X, y, test_size=0.2, random_state=42)\n",
        "\n",
        "# Initialize and train Logistic Regression model\n",
        "model = LogisticRegression(max_iter=500, solver='lbfgs')\n",
        "model.fit(X_train, y_train)\n",
        "\n",
        "# Predict probabilities for the positive class\n",
        "y_probs = model.predict_proba(X_test)[:, 1]\n",
        "\n",
        "# Calculate ROC-AUC score\n",
        "roc_auc = roc_auc_score(y_test, y_probs)\n",
        "\n",
        "print(f\"ROC-AUC score: {roc_auc:.2f}\")\n"
      ],
      "metadata": {
        "colab": {
          "base_uri": "https://localhost:8080/"
        },
        "id": "fbpyw17GE0Yf",
        "outputId": "d87c7be7-3fa8-4ba4-aecb-a34d42d2db97"
      },
      "execution_count": 18,
      "outputs": [
        {
          "output_type": "stream",
          "name": "stdout",
          "text": [
            "ROC-AUC score: 1.00\n"
          ]
        },
        {
          "output_type": "stream",
          "name": "stderr",
          "text": [
            "/usr/local/lib/python3.11/dist-packages/sklearn/linear_model/_logistic.py:465: ConvergenceWarning: lbfgs failed to converge (status=1):\n",
            "STOP: TOTAL NO. OF ITERATIONS REACHED LIMIT.\n",
            "\n",
            "Increase the number of iterations (max_iter) or scale the data as shown in:\n",
            "    https://scikit-learn.org/stable/modules/preprocessing.html\n",
            "Please also refer to the documentation for alternative solver options:\n",
            "    https://scikit-learn.org/stable/modules/linear_model.html#logistic-regression\n",
            "  n_iter_i = _check_optimize_result(\n"
          ]
        }
      ]
    },
    {
      "cell_type": "markdown",
      "source": [
        "17. Write a Python program to train Logistic Regression using a custom learning rate (C=0.5) and evaluate\n",
        "accuracy.\n"
      ],
      "metadata": {
        "id": "Pioq9YndHNWN"
      }
    },
    {
      "cell_type": "code",
      "source": [
        "from sklearn.datasets import load_breast_cancer\n",
        "from sklearn.linear_model import LogisticRegression\n",
        "from sklearn.model_selection import train_test_split\n",
        "from sklearn.metrics import accuracy_score\n",
        "\n",
        "# Load dataset\n",
        "data = load_breast_cancer()\n",
        "X = data.data\n",
        "y = data.target\n",
        "\n",
        "# Split into train and test sets (80% train, 20% test)\n",
        "X_train, X_test, y_train, y_test = train_test_split(X, y, test_size=0.2, random_state=42)\n",
        "\n",
        "# Initialize Logistic Regression with custom regularization strength C=0.5\n",
        "model = LogisticRegression(C=0.5, max_iter=500, solver='lbfgs')\n",
        "\n",
        "# Train the model\n",
        "model.fit(X_train, y_train)\n",
        "\n",
        "# Predict on test set\n",
        "y_pred = model.predict(X_test)\n",
        "\n",
        "# Evaluate accuracy\n",
        "accuracy = accuracy_score(y_test, y_pred)\n",
        "print(f\"Logistic Regression accuracy with C=0.5: {accuracy:.2f}\")\n"
      ],
      "metadata": {
        "colab": {
          "base_uri": "https://localhost:8080/"
        },
        "id": "iKd2h1H2H0EW",
        "outputId": "ad16f81d-d74a-48ad-a0b9-06145546b741"
      },
      "execution_count": 19,
      "outputs": [
        {
          "output_type": "stream",
          "name": "stdout",
          "text": [
            "Logistic Regression accuracy with C=0.5: 0.96\n"
          ]
        }
      ]
    },
    {
      "cell_type": "markdown",
      "source": [
        "18. Write a Python program to train Logistic Regression and identify important features based on model\n",
        "coefficients.\n"
      ],
      "metadata": {
        "id": "wkRvuD-zIHhn"
      }
    },
    {
      "cell_type": "code",
      "source": [
        "import pandas as pd\n",
        "import numpy as np\n",
        "from sklearn.datasets import load_breast_cancer\n",
        "from sklearn.linear_model import LogisticRegression\n",
        "from sklearn.model_selection import train_test_split\n",
        "\n",
        "# Load dataset\n",
        "data = load_breast_cancer()\n",
        "X = data.data\n",
        "y = data.target\n",
        "feature_names = data.feature_names\n",
        "\n",
        "# Split into train and test sets\n",
        "X_train, X_test, y_train, y_test = train_test_split(X, y, test_size=0.2, random_state=42)\n",
        "\n",
        "# Train Logistic Regression model\n",
        "model = LogisticRegression(max_iter=500, solver='liblinear')\n",
        "model.fit(X_train, y_train)\n",
        "\n",
        "# Get feature importance (coefficients)\n",
        "coefficients = model.coef_[0]\n",
        "\n",
        "# Create a DataFrame for easy viewing\n",
        "feature_importance = pd.DataFrame({\n",
        "    'Feature': feature_names,\n",
        "    'Coefficient': coefficients,\n",
        "    'Abs_Coefficient': np.abs(coefficients)\n",
        "})\n",
        "\n",
        "# Sort by absolute value of coefficients\n",
        "feature_importance = feature_importance.sort_values(by='Abs_Coefficient', ascending=False)\n",
        "\n",
        "# Print top important features\n",
        "print(\"Top important features based on logistic regression coefficients:\")\n",
        "print(feature_importance[['Feature', 'Coefficient']].head(10))\n"
      ],
      "metadata": {
        "colab": {
          "base_uri": "https://localhost:8080/"
        },
        "id": "cCKREMDEIO9d",
        "outputId": "9ffcf6db-036e-4534-fd77-e3cff32bb80b"
      },
      "execution_count": 20,
      "outputs": [
        {
          "output_type": "stream",
          "name": "stdout",
          "text": [
            "Top important features based on logistic regression coefficients:\n",
            "                 Feature  Coefficient\n",
            "0            mean radius     2.132484\n",
            "26       worst concavity    -1.617969\n",
            "11         texture error     1.442984\n",
            "20          worst radius     1.232150\n",
            "25     worst compactness    -1.208985\n",
            "28        worst symmetry    -0.742764\n",
            "6         mean concavity    -0.651940\n",
            "27  worst concave points    -0.615251\n",
            "5       mean compactness    -0.415569\n",
            "21         worst texture    -0.404581\n"
          ]
        }
      ]
    },
    {
      "cell_type": "markdown",
      "source": [
        "19. Write a Python program to train Logistic Regression and evaluate its performance using Cohen’s Kappa\n",
        "Score."
      ],
      "metadata": {
        "id": "fRB4-T9TIXiF"
      }
    },
    {
      "cell_type": "code",
      "source": [
        "from sklearn.datasets import load_breast_cancer\n",
        "from sklearn.linear_model import LogisticRegression\n",
        "from sklearn.model_selection import train_test_split\n",
        "from sklearn.metrics import cohen_kappa_score\n",
        "\n",
        "# Load binary classification dataset\n",
        "data = load_breast_cancer()\n",
        "X = data.data\n",
        "y = data.target\n",
        "\n",
        "# Split into train and test sets\n",
        "X_train, X_test, y_train, y_test = train_test_split(X, y, test_size=0.2, random_state=42)\n",
        "\n",
        "# Initialize and train Logistic Regression model\n",
        "model = LogisticRegression(max_iter=500, solver='lbfgs')\n",
        "model.fit(X_train, y_train)\n",
        "\n",
        "# Predict on the test set\n",
        "y_pred = model.predict(X_test)\n",
        "\n",
        "# Calculate Cohen’s Kappa Score\n",
        "kappa_score = cohen_kappa_score(y_test, y_pred)\n",
        "\n",
        "# Print result\n",
        "print(f\"Cohen’s Kappa Score: {kappa_score:.2f}\")\n"
      ],
      "metadata": {
        "colab": {
          "base_uri": "https://localhost:8080/"
        },
        "id": "fcJM8S2bIbrN",
        "outputId": "f3d9f0c0-09d2-45cf-ee2e-049cf2d5df00"
      },
      "execution_count": 21,
      "outputs": [
        {
          "output_type": "stream",
          "name": "stdout",
          "text": [
            "Cohen’s Kappa Score: 0.91\n"
          ]
        },
        {
          "output_type": "stream",
          "name": "stderr",
          "text": [
            "/usr/local/lib/python3.11/dist-packages/sklearn/linear_model/_logistic.py:465: ConvergenceWarning: lbfgs failed to converge (status=1):\n",
            "STOP: TOTAL NO. OF ITERATIONS REACHED LIMIT.\n",
            "\n",
            "Increase the number of iterations (max_iter) or scale the data as shown in:\n",
            "    https://scikit-learn.org/stable/modules/preprocessing.html\n",
            "Please also refer to the documentation for alternative solver options:\n",
            "    https://scikit-learn.org/stable/modules/linear_model.html#logistic-regression\n",
            "  n_iter_i = _check_optimize_result(\n"
          ]
        }
      ]
    },
    {
      "cell_type": "markdown",
      "source": [
        "20. Write a Python program to train Logistic Regression and visualize the Precision-Recall Curve for binary\n",
        "classification."
      ],
      "metadata": {
        "id": "3Z_wfGq1Iogl"
      }
    },
    {
      "cell_type": "code",
      "source": [
        "import matplotlib.pyplot as plt\n",
        "from sklearn.datasets import load_breast_cancer\n",
        "from sklearn.linear_model import LogisticRegression\n",
        "from sklearn.model_selection import train_test_split\n",
        "from sklearn.metrics import precision_recall_curve, PrecisionRecallDisplay\n",
        "\n",
        "# Load binary classification dataset\n",
        "data = load_breast_cancer()\n",
        "X = data.data\n",
        "y = data.target\n",
        "\n",
        "# Split data into training and testing sets\n",
        "X_train, X_test, y_train, y_test = train_test_split(X, y, test_size=0.2, random_state=42)\n",
        "\n",
        "# Train Logistic Regression model\n",
        "model = LogisticRegression(max_iter=500, solver='lbfgs')\n",
        "model.fit(X_train, y_train)\n",
        "\n",
        "# Predict probabilities for the positive class\n",
        "y_scores = model.predict_proba(X_test)[:, 1]\n",
        "\n",
        "# Compute precision and recall values\n",
        "precision, recall, thresholds = precision_recall_curve(y_test, y_scores)\n",
        "\n",
        "# Plot the Precision-Recall curve\n",
        "disp = PrecisionRecallDisplay(precision=precision, recall=recall)\n",
        "disp.plot()\n",
        "plt.title('Precision-Recall Curve for Logistic Regression')\n",
        "plt.grid(True)\n",
        "plt.show()\n"
      ],
      "metadata": {
        "colab": {
          "base_uri": "https://localhost:8080/",
          "height": 611
        },
        "id": "jczslAy0I0_G",
        "outputId": "6d43723b-e4b0-43a9-f9f7-592dfe0d0372"
      },
      "execution_count": 22,
      "outputs": [
        {
          "output_type": "stream",
          "name": "stderr",
          "text": [
            "/usr/local/lib/python3.11/dist-packages/sklearn/linear_model/_logistic.py:465: ConvergenceWarning: lbfgs failed to converge (status=1):\n",
            "STOP: TOTAL NO. OF ITERATIONS REACHED LIMIT.\n",
            "\n",
            "Increase the number of iterations (max_iter) or scale the data as shown in:\n",
            "    https://scikit-learn.org/stable/modules/preprocessing.html\n",
            "Please also refer to the documentation for alternative solver options:\n",
            "    https://scikit-learn.org/stable/modules/linear_model.html#logistic-regression\n",
            "  n_iter_i = _check_optimize_result(\n"
          ]
        },
        {
          "output_type": "display_data",
          "data": {
            "text/plain": [
              "<Figure size 640x480 with 1 Axes>"
            ],
            "image/png": "[encoded data removed]"
          },
          "metadata": {}
        }
      ]
    },
    {
      "cell_type": "markdown",
      "source": [
        "21. Write a Python program to train Logistic Regression with different solvers (liblinear, saga, lbfgs) and compare\n",
        "their accuracy."
      ],
      "metadata": {
        "id": "9NFDnTNNJVS-"
      }
    },
    {
      "cell_type": "code",
      "source": [
        "from sklearn.datasets import load_breast_cancer\n",
        "from sklearn.linear_model import LogisticRegression\n",
        "from sklearn.model_selection import train_test_split\n",
        "from sklearn.metrics import accuracy_score\n",
        "\n",
        "# Load binary classification dataset\n",
        "data = load_breast_cancer()\n",
        "X = data.data\n",
        "y = data.target\n",
        "\n",
        "# Split into train and test sets\n",
        "X_train, X_test, y_train, y_test = train_test_split(X, y, test_size=0.2, random_state=42)\n",
        "\n",
        "# List of solvers to compare\n",
        "solvers = ['liblinear', 'saga', 'lbfgs']\n",
        "accuracies = {}\n",
        "\n",
        "# Train and evaluate Logistic Regression with different solvers\n",
        "for solver in solvers:\n",
        "    try:\n",
        "        model = LogisticRegression(solver=solver, max_iter=500)\n",
        "        model.fit(X_train, y_train)\n",
        "        y_pred = model.predict(X_test)\n",
        "        acc = accuracy_score(y_test, y_pred)\n",
        "        accuracies[solver] = acc\n",
        "    except Exception as e:\n",
        "        accuracies[solver] = f\"Error: {e}\"\n",
        "\n",
        "# Print results\n",
        "print(\"Accuracy comparison of Logistic Regression with different solvers:\")\n",
        "for solver, acc in accuracies.items():\n",
        "    print(f\"{solver}: {acc}\")\n"
      ],
      "metadata": {
        "colab": {
          "base_uri": "https://localhost:8080/"
        },
        "id": "ZhkGk_RcJbT1",
        "outputId": "d46f275d-3e3a-4bb5-cd40-bf435a7be5a0"
      },
      "execution_count": 23,
      "outputs": [
        {
          "output_type": "stream",
          "name": "stdout",
          "text": [
            "Accuracy comparison of Logistic Regression with different solvers:\n",
            "liblinear: 0.956140350877193\n",
            "saga: 0.956140350877193\n",
            "lbfgs: 0.956140350877193\n"
          ]
        },
        {
          "output_type": "stream",
          "name": "stderr",
          "text": [
            "/usr/local/lib/python3.11/dist-packages/sklearn/linear_model/_sag.py:348: ConvergenceWarning: The max_iter was reached which means the coef_ did not converge\n",
            "  warnings.warn(\n"
          ]
        }
      ]
    },
    {
      "cell_type": "markdown",
      "source": [
        "22. Write a Python program to train Logistic Regression and evaluate its performance using Matthews\n",
        "Correlation Coefficient (MCC)."
      ],
      "metadata": {
        "id": "KpMEgWeJJi19"
      }
    },
    {
      "cell_type": "code",
      "source": [
        "from sklearn.datasets import load_breast_cancer\n",
        "from sklearn.linear_model import LogisticRegression\n",
        "from sklearn.model_selection import train_test_split\n",
        "from sklearn.metrics import matthews_corrcoef\n",
        "\n",
        "# Load binary classification dataset\n",
        "data = load_breast_cancer()\n",
        "X = data.data\n",
        "y = data.target\n",
        "\n",
        "# Split into training and test sets\n",
        "X_train, X_test, y_train, y_test = train_test_split(X, y, test_size=0.2, random_state=42)\n",
        "\n",
        "# Initialize and train Logistic Regression model\n",
        "model = LogisticRegression(max_iter=500, solver='lbfgs')\n",
        "model.fit(X_train, y_train)\n",
        "\n",
        "# Predict on the test set\n",
        "y_pred = model.predict(X_test)\n",
        "\n",
        "# Evaluate using Matthews Correlation Coefficient\n",
        "mcc = matthews_corrcoef(y_test, y_pred)\n",
        "\n",
        "# Print MCC\n",
        "print(f\"Matthews Correlation Coefficient (MCC): {mcc:.2f}\")\n"
      ],
      "metadata": {
        "colab": {
          "base_uri": "https://localhost:8080/"
        },
        "id": "Je0t7RitJl_k",
        "outputId": "bd81dad3-8a5b-40c1-ec37-c1bf2884f4d3"
      },
      "execution_count": 24,
      "outputs": [
        {
          "output_type": "stream",
          "name": "stdout",
          "text": [
            "Matthews Correlation Coefficient (MCC): 0.91\n"
          ]
        },
        {
          "output_type": "stream",
          "name": "stderr",
          "text": [
            "/usr/local/lib/python3.11/dist-packages/sklearn/linear_model/_logistic.py:465: ConvergenceWarning: lbfgs failed to converge (status=1):\n",
            "STOP: TOTAL NO. OF ITERATIONS REACHED LIMIT.\n",
            "\n",
            "Increase the number of iterations (max_iter) or scale the data as shown in:\n",
            "    https://scikit-learn.org/stable/modules/preprocessing.html\n",
            "Please also refer to the documentation for alternative solver options:\n",
            "    https://scikit-learn.org/stable/modules/linear_model.html#logistic-regression\n",
            "  n_iter_i = _check_optimize_result(\n"
          ]
        }
      ]
    },
    {
      "cell_type": "markdown",
      "source": [
        "23. Write a Python program to train Logistic Regression on both raw and standardized data. Compare their\n",
        "accuracy to see the impact of feature scaling."
      ],
      "metadata": {
        "id": "XCLLnoo9Juy0"
      }
    },
    {
      "cell_type": "code",
      "source": [
        "from sklearn.datasets import load_breast_cancer\n",
        "from sklearn.linear_model import LogisticRegression\n",
        "from sklearn.model_selection import train_test_split\n",
        "from sklearn.preprocessing import StandardScaler\n",
        "from sklearn.metrics import accuracy_score\n",
        "\n",
        "# Load dataset\n",
        "data = load_breast_cancer()\n",
        "X = data.data\n",
        "y = data.target\n",
        "\n",
        "# Split dataset into training and test sets\n",
        "X_train, X_test, y_train, y_test = train_test_split(X, y, test_size=0.2, random_state=42)\n",
        "\n",
        "# --- Logistic Regression on raw data ---\n",
        "model_raw = LogisticRegression(max_iter=500, solver='lbfgs')\n",
        "model_raw.fit(X_train, y_train)\n",
        "y_pred_raw = model_raw.predict(X_test)\n",
        "accuracy_raw = accuracy_score(y_test, y_pred_raw)\n",
        "\n",
        "# --- Logistic Regression on standardized data ---\n",
        "scaler = StandardScaler()\n",
        "X_train_scaled = scaler.fit_transform(X_train)\n",
        "X_test_scaled = scaler.transform(X_test)\n",
        "\n",
        "model_scaled = LogisticRegression(max_iter=500, solver='lbfgs')\n",
        "model_scaled.fit(X_train_scaled, y_train)\n",
        "y_pred_scaled = model_scaled.predict(X_test_scaled)\n",
        "accuracy_scaled = accuracy_score(y_test, y_pred_scaled)\n",
        "\n",
        "# --- Compare results ---\n",
        "print(f\"Accuracy on raw data:         {accuracy_raw:.2f}\")\n",
        "print(f\"Accuracy on standardized data: {accuracy_scaled:.2f}\")\n"
      ],
      "metadata": {
        "colab": {
          "base_uri": "https://localhost:8080/"
        },
        "id": "MArgeWztJ0j7",
        "outputId": "27fa87f2-ca9c-4523-a414-d25954b442f3"
      },
      "execution_count": 25,
      "outputs": [
        {
          "output_type": "stream",
          "name": "stdout",
          "text": [
            "Accuracy on raw data:         0.96\n",
            "Accuracy on standardized data: 0.97\n"
          ]
        },
        {
          "output_type": "stream",
          "name": "stderr",
          "text": [
            "/usr/local/lib/python3.11/dist-packages/sklearn/linear_model/_logistic.py:465: ConvergenceWarning: lbfgs failed to converge (status=1):\n",
            "STOP: TOTAL NO. OF ITERATIONS REACHED LIMIT.\n",
            "\n",
            "Increase the number of iterations (max_iter) or scale the data as shown in:\n",
            "    https://scikit-learn.org/stable/modules/preprocessing.html\n",
            "Please also refer to the documentation for alternative solver options:\n",
            "    https://scikit-learn.org/stable/modules/linear_model.html#logistic-regression\n",
            "  n_iter_i = _check_optimize_result(\n"
          ]
        }
      ]
    },
    {
      "cell_type": "markdown",
      "source": [
        "24. Write a Python program to train Logistic Regression and find the optimal C (regularization strength) using\n",
        "cross-validation."
      ],
      "metadata": {
        "id": "D2M7_ABmKOyF"
      }
    },
    {
      "cell_type": "code",
      "source": [
        "from sklearn.datasets import load_breast_cancer\n",
        "from sklearn.linear_model import LogisticRegression\n",
        "from sklearn.model_selection import GridSearchCV, train_test_split\n",
        "from sklearn.metrics import accuracy_score\n",
        "\n",
        "# Load dataset\n",
        "data = load_breast_cancer()\n",
        "X = data.data\n",
        "y = data.target\n",
        "\n",
        "# Split into training and test sets\n",
        "X_train, X_test, y_train, y_test = train_test_split(X, y, test_size=0.2, random_state=42)\n",
        "\n",
        "# Define the Logistic Regression model\n",
        "log_reg = LogisticRegression(max_iter=500, solver='liblinear')\n",
        "\n",
        "# Define the range of C values to test\n",
        "param_grid = {'C': [0.001, 0.01, 0.1, 1, 10, 100]}\n",
        "\n",
        "# Use GridSearchCV with 5-fold cross-validation\n",
        "grid_search = GridSearchCV(log_reg, param_grid, cv=5, scoring='accuracy')\n",
        "grid_search.fit(X_train, y_train)\n",
        "\n",
        "# Best C value\n",
        "best_c = grid_search.best_params_['C']\n",
        "print(f\"Best C value from cross-validation: {best_c}\")\n",
        "\n",
        "# Train final model with best C\n",
        "best_model = grid_search.best_estimator_\n",
        "y_pred = best_model.predict(X_test)\n",
        "\n",
        "# Evaluate on test data\n",
        "test_accuracy = accuracy_score(y_test, y_pred)\n",
        "print(f\"Test accuracy with best C: {test_accuracy:.2f}\")\n"
      ],
      "metadata": {
        "colab": {
          "base_uri": "https://localhost:8080/"
        },
        "id": "ue9Ygwb_KSdF",
        "outputId": "682f6221-9a56-40c4-a496-0fb206421278"
      },
      "execution_count": 26,
      "outputs": [
        {
          "output_type": "stream",
          "name": "stdout",
          "text": [
            "Best C value from cross-validation: 10\n",
            "Test accuracy with best C: 0.96\n"
          ]
        }
      ]
    },
    {
      "cell_type": "markdown",
      "source": [
        "25. Write a Python program to train Logistic Regression, save the trained model using joblib, and load it again to\n",
        "make predictions.\n"
      ],
      "metadata": {
        "id": "u_sEGpoUKdvm"
      }
    },
    {
      "cell_type": "code",
      "source": [
        "import joblib\n",
        "from sklearn.datasets import load_breast_cancer\n",
        "from sklearn.linear_model import LogisticRegression\n",
        "from sklearn.model_selection import train_test_split\n",
        "from sklearn.metrics import accuracy_score\n",
        "\n",
        "# Step 1: Load data\n",
        "data = load_breast_cancer()\n",
        "X = data.data\n",
        "y = data.target\n",
        "\n",
        "# Step 2: Split into training and testing sets\n",
        "X_train, X_test, y_train, y_test = train_test_split(X, y, test_size=0.2, random_state=42)\n",
        "\n",
        "# Step 3: Train the Logistic Regression model\n",
        "model = LogisticRegression(max_iter=500, solver='lbfgs')\n",
        "model.fit(X_train, y_train)\n",
        "\n",
        "# Step 4: Save the trained model using joblib\n",
        "joblib.dump(model, 'logistic_model.joblib')\n",
        "print(\"Model saved as 'logistic_model.joblib'\")\n",
        "\n",
        "# Step 5: Load the model from disk\n",
        "loaded_model = joblib.load('logistic_model.joblib')\n",
        "print(\"Model loaded successfully.\")\n",
        "\n",
        "# Step 6: Predict using the loaded model\n",
        "y_pred = loaded_model.predict(X_test)\n",
        "\n",
        "# Step 7: Evaluate accuracy\n",
        "accuracy = accuracy_score(y_test, y_pred)\n",
        "print(f\"Accuracy from loaded model: {accuracy:.2f}\")\n"
      ],
      "metadata": {
        "colab": {
          "base_uri": "https://localhost:8080/"
        },
        "id": "lfLrCNKkKhrE",
        "outputId": "d228a946-b162-4b81-f196-62e16c4e8109"
      },
      "execution_count": 27,
      "outputs": [
        {
          "output_type": "stream",
          "name": "stdout",
          "text": [
            "Model saved as 'logistic_model.joblib'\n",
            "Model loaded successfully.\n",
            "Accuracy from loaded model: 0.96\n"
          ]
        },
        {
          "output_type": "stream",
          "name": "stderr",
          "text": [
            "/usr/local/lib/python3.11/dist-packages/sklearn/linear_model/_logistic.py:465: ConvergenceWarning: lbfgs failed to converge (status=1):\n",
            "STOP: TOTAL NO. OF ITERATIONS REACHED LIMIT.\n",
            "\n",
            "Increase the number of iterations (max_iter) or scale the data as shown in:\n",
            "    https://scikit-learn.org/stable/modules/preprocessing.html\n",
            "Please also refer to the documentation for alternative solver options:\n",
            "    https://scikit-learn.org/stable/modules/linear_model.html#logistic-regression\n",
            "  n_iter_i = _check_optimize_result(\n"
          ]
        }
      ]
    }
  ]
}